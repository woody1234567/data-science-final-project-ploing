{
 "cells": [
  {
   "cell_type": "code",
   "execution_count": null,
   "metadata": {},
   "outputs": [],
   "source": []
  },
  {
   "cell_type": "code",
   "execution_count": 1,
   "metadata": {},
   "outputs": [],
   "source": [
    "import pandas as pd\n",
    "#read in the file\n",
    "df = pd.read_excel('TPE_news_content.xlsx')\n",
    "#clean up the unwanted columns\n",
    "df=df.drop(columns=[\"Unnamed: 0\"])"
   ]
  },
  {
   "cell_type": "code",
   "execution_count": 2,
   "metadata": {},
   "outputs": [
    {
     "data": {
      "text/plain": [
       "(49503, 5)"
      ]
     },
     "execution_count": 2,
     "metadata": {},
     "output_type": "execute_result"
    }
   ],
   "source": [
    "df.shape"
   ]
  },
  {
   "cell_type": "code",
   "execution_count": 3,
   "metadata": {},
   "outputs": [
    {
     "data": {
      "text/html": [
       "<div>\n",
       "<style scoped>\n",
       "    .dataframe tbody tr th:only-of-type {\n",
       "        vertical-align: middle;\n",
       "    }\n",
       "\n",
       "    .dataframe tbody tr th {\n",
       "        vertical-align: top;\n",
       "    }\n",
       "\n",
       "    .dataframe thead th {\n",
       "        text-align: right;\n",
       "    }\n",
       "</style>\n",
       "<table border=\"1\" class=\"dataframe\">\n",
       "  <thead>\n",
       "    <tr style=\"text-align: right;\">\n",
       "      <th></th>\n",
       "      <th>url</th>\n",
       "      <th>title</th>\n",
       "      <th>content</th>\n",
       "      <th>date</th>\n",
       "      <th>source</th>\n",
       "    </tr>\n",
       "  </thead>\n",
       "  <tbody>\n",
       "    <tr>\n",
       "      <th>0</th>\n",
       "      <td>News_Content.aspx?n=F0DDAF49B89E9413&amp;sms=72544...</td>\n",
       "      <td>私立育達高中-臺北育達高中時尚造型科高三同學運用專業與創意美學 參加「2023全國大專院校與...</td>\n",
       "      <td>_x000D_\\n臺北市私立育達高級中等學校新聞稿 請轉交文教記者\\n單位：臺北市私立育達高...</td>\n",
       "      <td>112-10-25</td>\n",
       "      <td>臺北市政府教育局</td>\n",
       "    </tr>\n",
       "    <tr>\n",
       "      <th>1</th>\n",
       "      <td>News_Content.aspx?n=F0DDAF49B89E9413&amp;sms=72544...</td>\n",
       "      <td>大安高工國際教育交流-接待日本北海道千歲高校</td>\n",
       "      <td>_x000D_\\n臺北市立大安高工事後新聞稿 請轉交文教記者\\n單位：臺北市立大安高工\\n地...</td>\n",
       "      <td>112-10-25</td>\n",
       "      <td>臺北市政府教育局</td>\n",
       "    </tr>\n",
       "    <tr>\n",
       "      <th>2</th>\n",
       "      <td>News_Content.aspx?n=F0DDAF49B89E9413&amp;sms=72544...</td>\n",
       "      <td>南港高中 強化校園安全維護演練 落實全民國防理念</td>\n",
       "      <td>_x000D_\\n臺北市立南港高級中學事後新聞稿 請轉交文教記者\\n單位：臺北市立南港高級中...</td>\n",
       "      <td>112-10-25</td>\n",
       "      <td>臺北市政府教育局</td>\n",
       "    </tr>\n",
       "    <tr>\n",
       "      <th>3</th>\n",
       "      <td>News_Content.aspx?n=F0DDAF49B89E9413&amp;sms=72544...</td>\n",
       "      <td>麗湖國小-臺北市我是小主播比賽「遇見大人物」</td>\n",
       "      <td>_x000D_\\n臺北市內湖區麗湖國小事後新聞稿  請轉交文教記者\\n單位：臺北市內湖區麗湖...</td>\n",
       "      <td>112-10-25</td>\n",
       "      <td>臺北市政府教育局</td>\n",
       "    </tr>\n",
       "    <tr>\n",
       "      <th>4</th>\n",
       "      <td>News_Content.aspx?n=F0DDAF49B89E9413&amp;sms=72544...</td>\n",
       "      <td>數位應用博覽會近千人參與 北市府展現數位轉型輔導亮點成果</td>\n",
       "      <td>_x000D_\\n\\n　　數位化和科技創新持續推動全球變革，為協助中小企業數位轉型，臺北市政...</td>\n",
       "      <td>112-10-25</td>\n",
       "      <td>臺北市政府產業發展局</td>\n",
       "    </tr>\n",
       "    <tr>\n",
       "      <th>...</th>\n",
       "      <td>...</td>\n",
       "      <td>...</td>\n",
       "      <td>...</td>\n",
       "      <td>...</td>\n",
       "      <td>...</td>\n",
       "    </tr>\n",
       "    <tr>\n",
       "      <th>49498</th>\n",
       "      <td>News_Content.aspx?n=F0DDAF49B89E9413&amp;sms=72544...</td>\n",
       "      <td>1031211西松國小日新月異航向未來-日本航空到校辦理航空教室新聞稿</td>\n",
       "      <td>單位：臺北市松山區西松國民小學 地址：臺北市松山區三民路5號 聯絡人：教務主任羅宇玲 聯絡電...</td>\n",
       "      <td>103-12-10</td>\n",
       "      <td>臺北市政府教育局綜合企劃科</td>\n",
       "    </tr>\n",
       "    <tr>\n",
       "      <th>49499</th>\n",
       "      <td>News_Content.aspx?n=F0DDAF49B89E9413&amp;sms=72544...</td>\n",
       "      <td>1031211北市103學年度學生創意偶戲比賽採訪通知</td>\n",
       "      <td>臺北市政府教育局採訪通知 請轉交文教記者單位：臺北市文山區興隆國小 地址：臺北市文山區福興路...</td>\n",
       "      <td>103-12-10</td>\n",
       "      <td>臺北市政府教育局綜合企劃科</td>\n",
       "    </tr>\n",
       "    <tr>\n",
       "      <th>49500</th>\n",
       "      <td>News_Content.aspx?n=F0DDAF49B89E9413&amp;sms=72544...</td>\n",
       "      <td>1031213北政國中46週年校慶新聞稿</td>\n",
       "      <td>臺北市文山區北政國民中學新聞稿 請轉交文教記者 學校：臺北市文山區北政國民中學地址：臺北市文...</td>\n",
       "      <td>103-12-10</td>\n",
       "      <td>臺北市政府教育局綜合企劃科</td>\n",
       "    </tr>\n",
       "    <tr>\n",
       "      <th>49501</th>\n",
       "      <td>News_Content.aspx?n=F0DDAF49B89E9413&amp;sms=72544...</td>\n",
       "      <td>兒童新樂園里民體驗已於12/6辦理完畢 歡迎市民朋友於12/16正式開園後攜家帶眷蒞臨遊玩</td>\n",
       "      <td>發稿單位：區政監督科發稿日期：103年12月10日　　有關兒童新樂園里民體驗部分，由各區公所...</td>\n",
       "      <td>103-12-10</td>\n",
       "      <td>臺北市政府民政局</td>\n",
       "    </tr>\n",
       "    <tr>\n",
       "      <th>49502</th>\n",
       "      <td>News_Content.aspx?n=F0DDAF49B89E9413&amp;sms=72544...</td>\n",
       "      <td>1031210-太平國小墨西哥國際志工新聞稿</td>\n",
       "      <td>臺北市大同區太平國民小學新聞稿 請轉交文教記者單位：臺北市大同區太平國民小學地址：臺北市大同...</td>\n",
       "      <td>103-12-10</td>\n",
       "      <td>臺北市政府教育局綜合企劃科</td>\n",
       "    </tr>\n",
       "  </tbody>\n",
       "</table>\n",
       "<p>49503 rows × 5 columns</p>\n",
       "</div>"
      ],
      "text/plain": [
       "                                                     url  \\\n",
       "0      News_Content.aspx?n=F0DDAF49B89E9413&sms=72544...   \n",
       "1      News_Content.aspx?n=F0DDAF49B89E9413&sms=72544...   \n",
       "2      News_Content.aspx?n=F0DDAF49B89E9413&sms=72544...   \n",
       "3      News_Content.aspx?n=F0DDAF49B89E9413&sms=72544...   \n",
       "4      News_Content.aspx?n=F0DDAF49B89E9413&sms=72544...   \n",
       "...                                                  ...   \n",
       "49498  News_Content.aspx?n=F0DDAF49B89E9413&sms=72544...   \n",
       "49499  News_Content.aspx?n=F0DDAF49B89E9413&sms=72544...   \n",
       "49500  News_Content.aspx?n=F0DDAF49B89E9413&sms=72544...   \n",
       "49501  News_Content.aspx?n=F0DDAF49B89E9413&sms=72544...   \n",
       "49502  News_Content.aspx?n=F0DDAF49B89E9413&sms=72544...   \n",
       "\n",
       "                                                   title  \\\n",
       "0      私立育達高中-臺北育達高中時尚造型科高三同學運用專業與創意美學 參加「2023全國大專院校與...   \n",
       "1                                 大安高工國際教育交流-接待日本北海道千歲高校   \n",
       "2                               南港高中 強化校園安全維護演練 落實全民國防理念   \n",
       "3                                 麗湖國小-臺北市我是小主播比賽「遇見大人物」   \n",
       "4                           數位應用博覽會近千人參與 北市府展現數位轉型輔導亮點成果   \n",
       "...                                                  ...   \n",
       "49498                1031211西松國小日新月異航向未來-日本航空到校辦理航空教室新聞稿   \n",
       "49499                        1031211北市103學年度學生創意偶戲比賽採訪通知   \n",
       "49500                               1031213北政國中46週年校慶新聞稿   \n",
       "49501      兒童新樂園里民體驗已於12/6辦理完畢 歡迎市民朋友於12/16正式開園後攜家帶眷蒞臨遊玩   \n",
       "49502                             1031210-太平國小墨西哥國際志工新聞稿   \n",
       "\n",
       "                                                 content       date  \\\n",
       "0      _x000D_\\n臺北市私立育達高級中等學校新聞稿 請轉交文教記者\\n單位：臺北市私立育達高...  112-10-25   \n",
       "1      _x000D_\\n臺北市立大安高工事後新聞稿 請轉交文教記者\\n單位：臺北市立大安高工\\n地...  112-10-25   \n",
       "2      _x000D_\\n臺北市立南港高級中學事後新聞稿 請轉交文教記者\\n單位：臺北市立南港高級中...  112-10-25   \n",
       "3      _x000D_\\n臺北市內湖區麗湖國小事後新聞稿  請轉交文教記者\\n單位：臺北市內湖區麗湖...  112-10-25   \n",
       "4      _x000D_\\n\\n　　數位化和科技創新持續推動全球變革，為協助中小企業數位轉型，臺北市政...  112-10-25   \n",
       "...                                                  ...        ...   \n",
       "49498  單位：臺北市松山區西松國民小學 地址：臺北市松山區三民路5號 聯絡人：教務主任羅宇玲 聯絡電...  103-12-10   \n",
       "49499  臺北市政府教育局採訪通知 請轉交文教記者單位：臺北市文山區興隆國小 地址：臺北市文山區福興路...  103-12-10   \n",
       "49500  臺北市文山區北政國民中學新聞稿 請轉交文教記者 學校：臺北市文山區北政國民中學地址：臺北市文...  103-12-10   \n",
       "49501  發稿單位：區政監督科發稿日期：103年12月10日　　有關兒童新樂園里民體驗部分，由各區公所...  103-12-10   \n",
       "49502  臺北市大同區太平國民小學新聞稿 請轉交文教記者單位：臺北市大同區太平國民小學地址：臺北市大同...  103-12-10   \n",
       "\n",
       "              source  \n",
       "0           臺北市政府教育局  \n",
       "1           臺北市政府教育局  \n",
       "2           臺北市政府教育局  \n",
       "3           臺北市政府教育局  \n",
       "4         臺北市政府產業發展局  \n",
       "...              ...  \n",
       "49498  臺北市政府教育局綜合企劃科  \n",
       "49499  臺北市政府教育局綜合企劃科  \n",
       "49500  臺北市政府教育局綜合企劃科  \n",
       "49501       臺北市政府民政局  \n",
       "49502  臺北市政府教育局綜合企劃科  \n",
       "\n",
       "[49503 rows x 5 columns]"
      ]
     },
     "execution_count": 3,
     "metadata": {},
     "output_type": "execute_result"
    }
   ],
   "source": [
    "df"
   ]
  },
  {
   "cell_type": "code",
   "execution_count": 4,
   "metadata": {},
   "outputs": [
    {
     "data": {
      "text/plain": [
       "source\n",
       "社子島專案辦公室          6\n",
       "第一區工程處           21\n",
       "第二區工程處            9\n",
       "臺北大眾捷運股份有限公司    448\n",
       "臺北市中山區健康服務中心      5\n",
       "               ... \n",
       "臺北廣播電臺            2\n",
       "臺北翡翠水庫管理局       113\n",
       "臺北自來水事業處        121\n",
       "貓空纜車              0\n",
       "都市發展局都市設計科        7\n",
       "Name: content, Length: 204, dtype: int64"
      ]
     },
     "execution_count": 4,
     "metadata": {},
     "output_type": "execute_result"
    }
   ],
   "source": [
    "df_count=df.groupby(\"source\").count()\n",
    "df_count[\"content\"]"
   ]
  },
  {
   "cell_type": "code",
   "execution_count": 5,
   "metadata": {},
   "outputs": [
    {
     "data": {
      "text/plain": [
       "0           臺北市政府教育局\n",
       "1         臺北市政府產業發展局\n",
       "2                NaN\n",
       "3      臺北市政府秘書處媒體事務組\n",
       "4           臺北市政府勞動局\n",
       "           ...      \n",
       "200      臺北市政府秘書處總務組\n",
       "201      臺北市政府警察局人事室\n",
       "202        臺北市教師研習中心\n",
       "203    臺北市政府資訊局設備網路組\n",
       "204       臺北市都市計畫委員會\n",
       "Length: 205, dtype: object"
      ]
     },
     "execution_count": 5,
     "metadata": {},
     "output_type": "execute_result"
    }
   ],
   "source": [
    "#the column that related to the police\n",
    "source_string=pd.Series(df[\"source\"].unique())\n",
    "#source_string[source_string..contains(\"警察\")]\n",
    "source_string"
   ]
  },
  {
   "cell_type": "code",
   "execution_count": 6,
   "metadata": {},
   "outputs": [
    {
     "data": {
      "text/plain": [
       "20      臺北市政府警察局犯罪預防科\n",
       "24     臺北市政府警察局中正第二分局\n",
       "25     臺北市政府警察局文山第一分局\n",
       "27      臺北市政府警察局婦幼警察隊\n",
       "33       臺北市政府警察局內湖分局\n",
       "40       臺北市政府警察局大同分局\n",
       "41      臺北市政府警察局少年警察隊\n",
       "43       臺北市政府警察局大安分局\n",
       "51     臺北市政府警察局交通警察大隊\n",
       "53       臺北市政府警察局萬華分局\n",
       "55       臺北市政府警察局北投分局\n",
       "63     臺北市政府警察局保安警察大隊\n",
       "69      臺北市政府警察局捷運警察隊\n",
       "72       臺北市政府警察局松山分局\n",
       "73       臺北市政府警察局南港分局\n",
       "76           臺北市政府警察局\n",
       "77       臺北市政府警察局信義分局\n",
       "94       臺北市政府警察局中山分局\n",
       "121    臺北市政府警察局文山第二分局\n",
       "138      臺北市政府警察局士林分局\n",
       "178    臺北市政府警察局中正第一分局\n",
       "195       臺北市政府警察局後勤科\n",
       "197       臺北市政府警察局外事科\n",
       "199       臺北市政府警察局行政科\n",
       "201       臺北市政府警察局人事室\n",
       "dtype: object"
      ]
     },
     "execution_count": 6,
     "metadata": {},
     "output_type": "execute_result"
    }
   ],
   "source": [
    "Police=source_string[source_string.str.contains(\"警察\")==1]\n",
    "Police"
   ]
  },
  {
   "cell_type": "code",
   "execution_count": 7,
   "metadata": {},
   "outputs": [
    {
     "data": {
      "text/plain": [
       "0                      臺北市政府教育局\n",
       "1                    臺北市政府產業發展局\n",
       "2                           NaN\n",
       "3                 臺北市政府秘書處媒體事務組\n",
       "4                      臺北市政府勞動局\n",
       "                 ...           \n",
       "198    臺北市政府工務局公園路燈工程管理處青年公園管理所\n",
       "200                 臺北市政府秘書處總務組\n",
       "202                   臺北市教師研習中心\n",
       "203               臺北市政府資訊局設備網路組\n",
       "204                  臺北市都市計畫委員會\n",
       "Length: 180, dtype: object"
      ]
     },
     "execution_count": 7,
     "metadata": {},
     "output_type": "execute_result"
    }
   ],
   "source": [
    "non_police=source_string[source_string.str.contains(\"警察\")!=1]\n",
    "#pd.set_option('display.max_row', None)\n",
    "non_police"
   ]
  },
  {
   "cell_type": "code",
   "execution_count": 8,
   "metadata": {},
   "outputs": [],
   "source": [
    "df_frequency=df.groupby([\"date\",\"source\"])[\"title\"].agg(\"count\")"
   ]
  },
  {
   "cell_type": "code",
   "execution_count": 22,
   "metadata": {},
   "outputs": [
    {
     "data": {
      "text/plain": [
       "5048"
      ]
     },
     "execution_count": 22,
     "metadata": {},
     "output_type": "execute_result"
    }
   ],
   "source": [
    "# label the NEWS posted by police-related authority\n",
    "police_mask=df[\"source\"].isin(Police) \n",
    "df[\"is_Police\"]=police_mask\n",
    "#df[df[\"is_Police\"]==1].count()"
   ]
  },
  {
   "cell_type": "code",
   "execution_count": 20,
   "metadata": {},
   "outputs": [
    {
     "data": {
      "text/plain": [
       "array(['臺北市政府警察局犯罪預防科', '臺北市政府警察局中正第二分局', '臺北市政府警察局文山第一分局',\n",
       "       '臺北市政府警察局婦幼警察隊', '臺北市政府警察局內湖分局', '臺北市政府警察局大同分局', '臺北市政府警察局少年警察隊',\n",
       "       '臺北市政府警察局大安分局', '臺北市政府警察局交通警察大隊', '臺北市政府警察局萬華分局', '臺北市政府警察局北投分局',\n",
       "       '臺北市政府警察局保安警察大隊', '臺北市政府警察局捷運警察隊', '臺北市政府警察局松山分局', '臺北市政府警察局南港分局',\n",
       "       '臺北市政府警察局', '臺北市政府警察局信義分局', '臺北市政府警察局中山分局', '臺北市政府警察局文山第二分局',\n",
       "       '臺北市政府警察局士林分局', '臺北市政府警察局中正第一分局', '臺北市政府警察局後勤科', '臺北市政府警察局外事科',\n",
       "       '臺北市政府警察局行政科', '臺北市政府警察局人事室'], dtype=object)"
      ]
     },
     "execution_count": 20,
     "metadata": {},
     "output_type": "execute_result"
    }
   ],
   "source": [
    "police_source=df[police_mask][\"source\"].unique()\n",
    "police_source"
   ]
  },
  {
   "cell_type": "code",
   "execution_count": 10,
   "metadata": {},
   "outputs": [
    {
     "name": "stdout",
     "output_type": "stream",
     "text": [
      "2117\n"
     ]
    }
   ],
   "source": [
    "# label the NEWS posted after the selection of  2019\n",
    "import datetime\n",
    "\n",
    "#the post with the nan in date column\n",
    "print(df[\"date\"].isnull().sum())\n",
    "date_mask=(df[\"date\"] < \"107-11-24\")\n",
    "df[\"before_election\"]=date_mask\n"
   ]
  },
  {
   "cell_type": "code",
   "execution_count": 11,
   "metadata": {},
   "outputs": [],
   "source": [
    "df_target=df.groupby([\"date\",\"source\"]).agg(\"sum\")\n",
    "df_target[\"frequency\"]=df_frequency\n",
    "df_target.loc[df_target[\"before_election\"] != 0, \"before_election\"] = 1\n",
    "df_target.loc[df_target[\"is_Police\"] != 0, \"is_Police\"] = 1\n"
   ]
  },
  {
   "cell_type": "code",
   "execution_count": 12,
   "metadata": {},
   "outputs": [],
   "source": [
    "#store the data\n",
    "#df_target.to_excel('TPE_news_panel_police.xlsx')"
   ]
  },
  {
   "cell_type": "code",
   "execution_count": 13,
   "metadata": {},
   "outputs": [
    {
     "data": {
      "text/html": [
       "<div>\n",
       "<style scoped>\n",
       "    .dataframe tbody tr th:only-of-type {\n",
       "        vertical-align: middle;\n",
       "    }\n",
       "\n",
       "    .dataframe tbody tr th {\n",
       "        vertical-align: top;\n",
       "    }\n",
       "\n",
       "    .dataframe thead th {\n",
       "        text-align: right;\n",
       "    }\n",
       "</style>\n",
       "<table border=\"1\" class=\"dataframe\">\n",
       "  <thead>\n",
       "    <tr style=\"text-align: right;\">\n",
       "      <th></th>\n",
       "      <th></th>\n",
       "      <th>is_Police</th>\n",
       "      <th>before_election</th>\n",
       "      <th>frequency</th>\n",
       "    </tr>\n",
       "    <tr>\n",
       "      <th>date</th>\n",
       "      <th>source</th>\n",
       "      <th></th>\n",
       "      <th></th>\n",
       "      <th></th>\n",
       "    </tr>\n",
       "  </thead>\n",
       "  <tbody>\n",
       "    <tr>\n",
       "      <th rowspan=\"5\" valign=\"top\">103-12-10</th>\n",
       "      <th>臺北市政府工務局水利工程處</th>\n",
       "      <td>0</td>\n",
       "      <td>1</td>\n",
       "      <td>1</td>\n",
       "    </tr>\n",
       "    <tr>\n",
       "      <th>臺北市政府教育局綜合企劃科</th>\n",
       "      <td>0</td>\n",
       "      <td>1</td>\n",
       "      <td>6</td>\n",
       "    </tr>\n",
       "    <tr>\n",
       "      <th>臺北市政府民政局</th>\n",
       "      <td>0</td>\n",
       "      <td>1</td>\n",
       "      <td>1</td>\n",
       "    </tr>\n",
       "    <tr>\n",
       "      <th>臺北市政府秘書處媒體事務組</th>\n",
       "      <td>0</td>\n",
       "      <td>1</td>\n",
       "      <td>1</td>\n",
       "    </tr>\n",
       "    <tr>\n",
       "      <th>臺北市政府財政局</th>\n",
       "      <td>0</td>\n",
       "      <td>1</td>\n",
       "      <td>1</td>\n",
       "    </tr>\n",
       "    <tr>\n",
       "      <th>...</th>\n",
       "      <th>...</th>\n",
       "      <td>...</td>\n",
       "      <td>...</td>\n",
       "      <td>...</td>\n",
       "    </tr>\n",
       "    <tr>\n",
       "      <th rowspan=\"5\" valign=\"top\">112-10-25</th>\n",
       "      <th>臺北市政府觀光傳播局</th>\n",
       "      <td>0</td>\n",
       "      <td>0</td>\n",
       "      <td>1</td>\n",
       "    </tr>\n",
       "    <tr>\n",
       "      <th>臺北市稅捐稽徵處</th>\n",
       "      <td>0</td>\n",
       "      <td>0</td>\n",
       "      <td>1</td>\n",
       "    </tr>\n",
       "    <tr>\n",
       "      <th>臺北市立動物園</th>\n",
       "      <td>0</td>\n",
       "      <td>0</td>\n",
       "      <td>1</td>\n",
       "    </tr>\n",
       "    <tr>\n",
       "      <th>臺北市立圖書館</th>\n",
       "      <td>0</td>\n",
       "      <td>0</td>\n",
       "      <td>1</td>\n",
       "    </tr>\n",
       "    <tr>\n",
       "      <th>臺北市立天文科學教育館</th>\n",
       "      <td>0</td>\n",
       "      <td>0</td>\n",
       "      <td>1</td>\n",
       "    </tr>\n",
       "  </tbody>\n",
       "</table>\n",
       "<p>30256 rows × 3 columns</p>\n",
       "</div>"
      ],
      "text/plain": [
       "                         is_Police  before_election  frequency\n",
       "date      source                                              \n",
       "103-12-10 臺北市政府工務局水利工程處          0                1          1\n",
       "          臺北市政府教育局綜合企劃科          0                1          6\n",
       "          臺北市政府民政局               0                1          1\n",
       "          臺北市政府秘書處媒體事務組          0                1          1\n",
       "          臺北市政府財政局               0                1          1\n",
       "...                            ...              ...        ...\n",
       "112-10-25 臺北市政府觀光傳播局             0                0          1\n",
       "          臺北市稅捐稽徵處               0                0          1\n",
       "          臺北市立動物園                0                0          1\n",
       "          臺北市立圖書館                0                0          1\n",
       "          臺北市立天文科學教育館            0                0          1\n",
       "\n",
       "[30256 rows x 3 columns]"
      ]
     },
     "execution_count": 13,
     "metadata": {},
     "output_type": "execute_result"
    }
   ],
   "source": [
    "df_target\n"
   ]
  }
 ],
 "metadata": {
  "kernelspec": {
   "display_name": "base",
   "language": "python",
   "name": "python3"
  },
  "language_info": {
   "codemirror_mode": {
    "name": "ipython",
    "version": 3
   },
   "file_extension": ".py",
   "mimetype": "text/x-python",
   "name": "python",
   "nbconvert_exporter": "python",
   "pygments_lexer": "ipython3",
   "version": "3.9.12"
  }
 },
 "nbformat": 4,
 "nbformat_minor": 2
}
