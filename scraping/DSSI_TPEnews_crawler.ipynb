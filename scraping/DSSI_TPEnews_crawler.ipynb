{
  "cells": [
    {
      "cell_type": "code",
      "execution_count": 4,
      "metadata": {
        "colab": {
          "base_uri": "https://localhost:8080/"
        },
        "id": "Y5JH--6kEvDZ",
        "outputId": "ff2cc994-83ba-4658-c837-298306d5f4ba"
      },
      "outputs": [],
      "source": [
        "# pip install xlsxwriter\n",
        "import xlsxwriter\n",
        "import os\n",
        "from tqdm import tqdm\n",
        "import pandas as pd\n",
        "import requests\n",
        "from bs4 import BeautifulSoup as bs\n",
        "import json\n",
        "import re\n"
      ]
    },
    {
      "cell_type": "code",
      "execution_count": 5,
      "metadata": {
        "id": "XXrtzLqVc677"
      },
      "outputs": [],
      "source": [
        "###設定項###\n",
        "path = r'C:\\Users\\johan\\桌面\\研究所學習\\資料分析與社會研究\\期末專題報告'\n",
        "start = 15000\n",
        "finish = 17000\n",
        "############\n",
        "os.chdir(path)"
      ]
    },
    {
      "cell_type": "markdown",
      "metadata": {
        "id": "PcOrQqkTqsZv"
      },
      "source": [
        "TPE_link.xlsx的連結：\n",
        "\n",
        "https://docs.google.com/spreadsheets/d/1pi0z16Uhzo18N1PWXIUJb2uCLesoAkpa/edit?usp=sharing&ouid=102591472728274508136&rtpof=true&sd=true"
      ]
    },
    {
      "cell_type": "code",
      "execution_count": 6,
      "metadata": {
        "colab": {
          "base_uri": "https://localhost:8080/"
        },
        "id": "1jDxiYrIdGju",
        "outputId": "3fce825f-008a-4eb3-815b-e0c28f89a9ed"
      },
      "outputs": [
        {
          "name": "stderr",
          "output_type": "stream",
          "text": [
            "100%|██████████| 2000/2000 [6:12:40<00:00, 11.18s/it]  \n"
          ]
        }
      ],
      "source": [
        "link = pd.read_excel('TPE_link.xlsx',index_col=0)\n",
        "link\n",
        "df = link.iloc[start:finish,:].copy()\n",
        "content = []\n",
        "for p in tqdm(range(start,finish)):\n",
        "  page_url = 'https://www.gov.taipei/'+link.url[p]\n",
        "  try:\n",
        "    response = requests.request(\"GET\", url=page_url)\n",
        "  except:\n",
        "    content.append('')\n",
        "    continue\n",
        "  if response.status_code == '200':\n",
        "    raise Exception('web status error')\n",
        "  content.append(response.text)\n",
        "\n",
        "  if (p+1) % 100 == 0:\n",
        "    temp_df = link.iloc[start:(p+1),:].copy()\n",
        "    temp_df['content'] = content\n",
        "    temp_df.to_excel('TPE_news_'+str(start)+'_'+str(finish)+'.xlsx',engine='xlsxwriter')\n",
        "\n",
        "df['content'] = content\n",
        "df.to_excel('TPE_news_'+str(start)+'_'+str(finish)+'.xlsx',engine='xlsxwriter')"
      ]
    }
  ],
  "metadata": {
    "colab": {
      "provenance": []
    },
    "kernelspec": {
      "display_name": "Python 3",
      "name": "python3"
    },
    "language_info": {
      "codemirror_mode": {
        "name": "ipython",
        "version": 3
      },
      "file_extension": ".py",
      "mimetype": "text/x-python",
      "name": "python",
      "nbconvert_exporter": "python",
      "pygments_lexer": "ipython3",
      "version": "3.10.11"
    }
  },
  "nbformat": 4,
  "nbformat_minor": 0
}
